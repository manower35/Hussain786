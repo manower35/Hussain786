{
  "nbformat": 4,
  "nbformat_minor": 0,
  "metadata": {
    "colab": {
      "provenance": [],
      "authorship_tag": "ABX9TyPz+Hm3BYhyEzCqR4sHhbjr",
      "include_colab_link": true
    },
    "kernelspec": {
      "name": "python3",
      "display_name": "Python 3"
    },
    "language_info": {
      "name": "python"
    }
  },
  "cells": [
    {
      "cell_type": "markdown",
      "metadata": {
        "id": "view-in-github",
        "colab_type": "text"
      },
      "source": [
        "<a href=\"https://colab.research.google.com/github/manower35/Hussain786/blob/main/Python_Data_Structure.ipynb\" target=\"_parent\"><img src=\"https://colab.research.google.com/assets/colab-badge.svg\" alt=\"Open In Colab\"/></a>"
      ]
    },
    {
      "cell_type": "markdown",
      "metadata": {
        "id": "1ec34bb2"
      },
      "source": [
        "Python has several built-in data structures that are used to organize and store data. These include:\n",
        "\n",
        "1. **Lists:** Ordered, mutable collections of items.\n",
        "2. **Tuples:** Ordered, immutable collections of items.\n",
        "3. **Dictionaries:** Unordered, mutable collections of key-value pairs.\n",
        "4. **Sets:** Unordered, mutable collections of unique items.\n",
        "\n",
        "Let's explore each of these with code examples."
      ]
    },
    {
      "cell_type": "markdown",
      "metadata": {
        "id": "7794fa44"
      },
      "source": [
        "## Lists\n",
        "\n",
        "Lists are defined using square brackets `[]`. You can access elements by index, modify elements, add elements, and remove elements."
      ]
    },
    {
      "cell_type": "code",
      "metadata": {
        "colab": {
          "base_uri": "https://localhost:8080/"
        },
        "id": "7f36ece3",
        "outputId": "f833ecde-556c-424f-8d77-1a9d939e07d3"
      },
      "source": [
        "# Creating a list\n",
        "my_list = [1, 2, 3, 4, 5]\n",
        "print(\"My list:\", my_list)\n",
        "\n",
        "# Accessing elements\n",
        "print(\"first element:\", my_list[0])\n",
        "print(\"second element:\", my_list[1])\n",
        "print(\"last element:\", my_list[-1])\n",
        "\n",
        "# Modifying elements\n",
        "my_list[0] = 20\n",
        "print(\"modified list:\", my_list)\n",
        "\n",
        "# Adding elements\n",
        "my_list.append(6)\n",
        "print(\"List after append:\", my_list)\n",
        "\n",
        "my_list.insert(1, 11)\n",
        "print(\"List after insert:\", my_list)\n",
        "\n",
        "# Removing elements\n",
        "my_list.remove(3)\n",
        "print(\"List after remove:\", my_list)\n",
        "\n",
        "my_list.pop()\n",
        "print(\"List after pop:\", my_list)\n",
        "\n",
        "del my_list[0]\n",
        "print(\"List after del:\", my_list)"
      ],
      "execution_count": null,
      "outputs": [
        {
          "output_type": "stream",
          "name": "stdout",
          "text": [
            "My list: [1, 2, 3, 4, 5]\n",
            "first element: 1\n",
            "second element: 2\n",
            "last element: 5\n",
            "modified list: [20, 2, 3, 4, 5]\n",
            "List after append: [20, 2, 3, 4, 5, 6]\n",
            "List after insert: [20, 11, 2, 3, 4, 5, 6]\n",
            "List after remove: [20, 11, 2, 4, 5, 6]\n",
            "List after pop: [20, 11, 2, 4, 5]\n",
            "List after del: [11, 2, 4, 5]\n"
          ]
        }
      ]
    },
    {
      "cell_type": "markdown",
      "metadata": {
        "id": "56896f00"
      },
      "source": [
        "## Tuples\n",
        "\n",
        "Tuples are similar to lists but are immutable, meaning their elements cannot be changed after creation. They are defined using parentheses `()`. Tuples are often used for data that should not be modified, such as coordinates or configuration settings."
      ]
    },
    {
      "cell_type": "code",
      "metadata": {
        "colab": {
          "base_uri": "https://localhost:8080/"
        },
        "id": "2e3cc8d4",
        "outputId": "f8f80904-dd45-4872-ccdb-ebd1556933a5"
      },
      "source": [
        "# Creating a tuple\n",
        "my_tuple = (1, 2, 3, 4, 5)\n",
        "print(\"my tuple:\", my_tuple)\n",
        "\n",
        "# Accessing elements (same as lists)\n",
        "print(\"First element:\", my_tuple[0])\n",
        "print(\"last element:\", my_tuple[-1])"
      ],
      "execution_count": null,
      "outputs": [
        {
          "output_type": "stream",
          "name": "stdout",
          "text": [
            "my tuple: (1, 2, 3, 4, 5)\n",
            "First element: 1\n",
            "last element: 5\n"
          ]
        }
      ]
    },
    {
      "cell_type": "markdown",
      "metadata": {
        "id": "0ad2a88d"
      },
      "source": [
        "## Dictionaries\n",
        "\n",
        "Dictionaries store data in key-value pairs. Each key is unique and is used to access its corresponding value. Dictionaries are defined using curly braces `{}`."
      ]
    },
    {
      "cell_type": "code",
      "metadata": {
        "colab": {
          "base_uri": "https://localhost:8080/"
        },
        "id": "cf98eba5",
        "outputId": "03057741-67e9-4c97-d1dc-12b22f395996"
      },
      "source": [
        "# Creating a dictionary\n",
        "my_dict = {\"name\": \"manower\", \"age\": 32, \"city\": \"hyderabad\"}\n",
        "print(\"My dictionary:\", my_dict)\n",
        "\n",
        "# Accessing values\n",
        "print(\"Name:\", my_dict[\"age\"])\n",
        "\n",
        "# Modifying values\n",
        "my_dict[\"city\"] = \"kolkata\"\n",
        "print(\"Modified dictionary:\", my_dict)\n",
        "\n",
        "# Adding new key-value pairs\n",
        "my_dict[\"occupation\"] = \"Engineer\"\n",
        "print(\"Dictionary after adding:\", my_dict)\n",
        "\n",
        "# Removing key-value pairs\n",
        "del my_dict[\"city\"]\n",
        "print(\"Dictionary after deleting:\", my_dict)\n",
        "\n",
        "my_dict.pop(\"age\")\n",
        "print(\"Dictionary after pop:\", my_dict)"
      ],
      "execution_count": null,
      "outputs": [
        {
          "output_type": "stream",
          "name": "stdout",
          "text": [
            "My dictionary: {'name': 'manower', 'age': 32, 'city': 'hyderabad'}\n",
            "Name: 32\n",
            "Modified dictionary: {'name': 'manower', 'age': 32, 'city': 'kolkata'}\n",
            "Dictionary after adding: {'name': 'manower', 'age': 32, 'city': 'kolkata', 'occupation': 'Engineer'}\n",
            "Dictionary after deleting: {'name': 'manower', 'age': 32, 'occupation': 'Engineer'}\n",
            "Dictionary after pop: {'name': 'manower', 'occupation': 'Engineer'}\n"
          ]
        }
      ]
    },
    {
      "cell_type": "markdown",
      "metadata": {
        "id": "6e675658"
      },
      "source": [
        "## Sets\n",
        "\n",
        "Sets are unordered collections of unique elements. Duplicate elements are automatically removed. Sets are defined using curly braces `{}` or the `set()` constructor. Sets are useful for operations like checking for membership, removing duplicates, and performing set operations (union, intersection, difference)."
      ]
    },
    {
      "cell_type": "code",
      "metadata": {
        "colab": {
          "base_uri": "https://localhost:8080/"
        },
        "id": "4ade73ca",
        "outputId": "2130d546-0926-4cb1-bd89-f7ea44cc9869"
      },
      "source": [
        "# Creating a set\n",
        "my_set = {1, 2, 3, 4, 4, 5, 4}\n",
        "print(\"my set:\", my_set)\n",
        "\n",
        "# Adding elements\n",
        "my_set.add(6)\n",
        "print(\"Set after adding:\", my_set)\n",
        "\n",
        "# Removing elements\n",
        "my_set.remove(3)\n",
        "print(\"Set after removing:\", my_set)\n",
        "\n",
        "# Checking for membership\n",
        "print(\"Is 2 in the set?\", 2 in my_set)\n",
        "print(\"Is 7 in the set?\", 7 in my_set)\n",
        "\n",
        "# Set operations\n",
        "set1 = {1, 2, 3, 4}\n",
        "set2 = {3, 4, 5, 6}\n",
        "\n",
        "print(\"Union:\", set1.union(set2))\n",
        "print(\"Intersection:\", set1.intersection(set2))\n",
        "print(\"Difference (set1 - set2):\", set1.difference(set2))"
      ],
      "execution_count": null,
      "outputs": [
        {
          "output_type": "stream",
          "name": "stdout",
          "text": [
            "my set: {1, 2, 3, 4, 5}\n",
            "Set after adding: {1, 2, 3, 4, 5, 6}\n",
            "Set after removing: {1, 2, 4, 5, 6}\n",
            "Is 2 in the set? True\n",
            "Is 7 in the set? False\n",
            "Union: {1, 2, 3, 4, 5, 6}\n",
            "Intersection: {3, 4}\n",
            "Difference (set1 - set2): {1, 2}\n"
          ]
        }
      ]
    },
    {
      "cell_type": "markdown",
      "source": [
        "SPECIALISED DATA STRUCTURE\n",
        "\n",
        "ARRAY"
      ],
      "metadata": {
        "id": "7bUYqN29-DV6"
      }
    },
    {
      "cell_type": "code",
      "source": [
        "import numpy as np\n",
        "array1 = np.array([0, 1, 2, 4])\n",
        "array2 = np.array([2, 5, 7, 8])\n",
        "\n",
        "print(array1)\n",
        "print(array2)"
      ],
      "metadata": {
        "colab": {
          "base_uri": "https://localhost:8080/"
        },
        "id": "i60rMTny9xyr",
        "outputId": "0e104465-9bfe-4750-d7f1-f434c608e105"
      },
      "execution_count": null,
      "outputs": [
        {
          "output_type": "stream",
          "name": "stdout",
          "text": [
            "[0 1 2 4]\n",
            "[2 5 7 8]\n"
          ]
        }
      ]
    },
    {
      "cell_type": "markdown",
      "source": [
        "PANDAS DATAFRAME AND SERIES"
      ],
      "metadata": {
        "id": "x1ZNuIvu_kd7"
      }
    },
    {
      "cell_type": "code",
      "source": [
        "import pandas as pd\n",
        "data = {\"areasqft\":[2140, 4500, 3200],\"bedrooms\":[2, 3, 5], \"avrageyears\":[15, 20, 23], \"price\":[300, 230, 560]}\n",
        "df = pd.DataFrame(data)\n",
        "df"
      ],
      "metadata": {
        "colab": {
          "base_uri": "https://localhost:8080/",
          "height": 143
        },
        "id": "k5S5YZWJ_UOj",
        "outputId": "4157c509-4633-463f-d219-ef465c1752d6"
      },
      "execution_count": null,
      "outputs": [
        {
          "output_type": "execute_result",
          "data": {
            "text/plain": [
              "   areasqft  bedrooms  avrageyears  price\n",
              "0      2140         2           15    300\n",
              "1      4500         3           20    230\n",
              "2      3200         5           23    560"
            ],
            "text/html": [
              "\n",
              "  <div id=\"df-8db3ed32-e6fd-4500-9914-7b4f56a76e8c\" class=\"colab-df-container\">\n",
              "    <div>\n",
              "<style scoped>\n",
              "    .dataframe tbody tr th:only-of-type {\n",
              "        vertical-align: middle;\n",
              "    }\n",
              "\n",
              "    .dataframe tbody tr th {\n",
              "        vertical-align: top;\n",
              "    }\n",
              "\n",
              "    .dataframe thead th {\n",
              "        text-align: right;\n",
              "    }\n",
              "</style>\n",
              "<table border=\"1\" class=\"dataframe\">\n",
              "  <thead>\n",
              "    <tr style=\"text-align: right;\">\n",
              "      <th></th>\n",
              "      <th>areasqft</th>\n",
              "      <th>bedrooms</th>\n",
              "      <th>avrageyears</th>\n",
              "      <th>price</th>\n",
              "    </tr>\n",
              "  </thead>\n",
              "  <tbody>\n",
              "    <tr>\n",
              "      <th>0</th>\n",
              "      <td>2140</td>\n",
              "      <td>2</td>\n",
              "      <td>15</td>\n",
              "      <td>300</td>\n",
              "    </tr>\n",
              "    <tr>\n",
              "      <th>1</th>\n",
              "      <td>4500</td>\n",
              "      <td>3</td>\n",
              "      <td>20</td>\n",
              "      <td>230</td>\n",
              "    </tr>\n",
              "    <tr>\n",
              "      <th>2</th>\n",
              "      <td>3200</td>\n",
              "      <td>5</td>\n",
              "      <td>23</td>\n",
              "      <td>560</td>\n",
              "    </tr>\n",
              "  </tbody>\n",
              "</table>\n",
              "</div>\n",
              "    <div class=\"colab-df-buttons\">\n",
              "\n",
              "  <div class=\"colab-df-container\">\n",
              "    <button class=\"colab-df-convert\" onclick=\"convertToInteractive('df-8db3ed32-e6fd-4500-9914-7b4f56a76e8c')\"\n",
              "            title=\"Convert this dataframe to an interactive table.\"\n",
              "            style=\"display:none;\">\n",
              "\n",
              "  <svg xmlns=\"http://www.w3.org/2000/svg\" height=\"24px\" viewBox=\"0 -960 960 960\">\n",
              "    <path d=\"M120-120v-720h720v720H120Zm60-500h600v-160H180v160Zm220 220h160v-160H400v160Zm0 220h160v-160H400v160ZM180-400h160v-160H180v160Zm440 0h160v-160H620v160ZM180-180h160v-160H180v160Zm440 0h160v-160H620v160Z\"/>\n",
              "  </svg>\n",
              "    </button>\n",
              "\n",
              "  <style>\n",
              "    .colab-df-container {\n",
              "      display:flex;\n",
              "      gap: 12px;\n",
              "    }\n",
              "\n",
              "    .colab-df-convert {\n",
              "      background-color: #E8F0FE;\n",
              "      border: none;\n",
              "      border-radius: 50%;\n",
              "      cursor: pointer;\n",
              "      display: none;\n",
              "      fill: #1967D2;\n",
              "      height: 32px;\n",
              "      padding: 0 0 0 0;\n",
              "      width: 32px;\n",
              "    }\n",
              "\n",
              "    .colab-df-convert:hover {\n",
              "      background-color: #E2EBFA;\n",
              "      box-shadow: 0px 1px 2px rgba(60, 64, 67, 0.3), 0px 1px 3px 1px rgba(60, 64, 67, 0.15);\n",
              "      fill: #174EA6;\n",
              "    }\n",
              "\n",
              "    .colab-df-buttons div {\n",
              "      margin-bottom: 4px;\n",
              "    }\n",
              "\n",
              "    [theme=dark] .colab-df-convert {\n",
              "      background-color: #3B4455;\n",
              "      fill: #D2E3FC;\n",
              "    }\n",
              "\n",
              "    [theme=dark] .colab-df-convert:hover {\n",
              "      background-color: #434B5C;\n",
              "      box-shadow: 0px 1px 3px 1px rgba(0, 0, 0, 0.15);\n",
              "      filter: drop-shadow(0px 1px 2px rgba(0, 0, 0, 0.3));\n",
              "      fill: #FFFFFF;\n",
              "    }\n",
              "  </style>\n",
              "\n",
              "    <script>\n",
              "      const buttonEl =\n",
              "        document.querySelector('#df-8db3ed32-e6fd-4500-9914-7b4f56a76e8c button.colab-df-convert');\n",
              "      buttonEl.style.display =\n",
              "        google.colab.kernel.accessAllowed ? 'block' : 'none';\n",
              "\n",
              "      async function convertToInteractive(key) {\n",
              "        const element = document.querySelector('#df-8db3ed32-e6fd-4500-9914-7b4f56a76e8c');\n",
              "        const dataTable =\n",
              "          await google.colab.kernel.invokeFunction('convertToInteractive',\n",
              "                                                    [key], {});\n",
              "        if (!dataTable) return;\n",
              "\n",
              "        const docLinkHtml = 'Like what you see? Visit the ' +\n",
              "          '<a target=\"_blank\" href=https://colab.research.google.com/notebooks/data_table.ipynb>data table notebook</a>'\n",
              "          + ' to learn more about interactive tables.';\n",
              "        element.innerHTML = '';\n",
              "        dataTable['output_type'] = 'display_data';\n",
              "        await google.colab.output.renderOutput(dataTable, element);\n",
              "        const docLink = document.createElement('div');\n",
              "        docLink.innerHTML = docLinkHtml;\n",
              "        element.appendChild(docLink);\n",
              "      }\n",
              "    </script>\n",
              "  </div>\n",
              "\n",
              "\n",
              "    <div id=\"df-b7c2e02c-dac1-4df0-a186-40914c7c0d5b\">\n",
              "      <button class=\"colab-df-quickchart\" onclick=\"quickchart('df-b7c2e02c-dac1-4df0-a186-40914c7c0d5b')\"\n",
              "                title=\"Suggest charts\"\n",
              "                style=\"display:none;\">\n",
              "\n",
              "<svg xmlns=\"http://www.w3.org/2000/svg\" height=\"24px\"viewBox=\"0 0 24 24\"\n",
              "     width=\"24px\">\n",
              "    <g>\n",
              "        <path d=\"M19 3H5c-1.1 0-2 .9-2 2v14c0 1.1.9 2 2 2h14c1.1 0 2-.9 2-2V5c0-1.1-.9-2-2-2zM9 17H7v-7h2v7zm4 0h-2V7h2v10zm4 0h-2v-4h2v4z\"/>\n",
              "    </g>\n",
              "</svg>\n",
              "      </button>\n",
              "\n",
              "<style>\n",
              "  .colab-df-quickchart {\n",
              "      --bg-color: #E8F0FE;\n",
              "      --fill-color: #1967D2;\n",
              "      --hover-bg-color: #E2EBFA;\n",
              "      --hover-fill-color: #174EA6;\n",
              "      --disabled-fill-color: #AAA;\n",
              "      --disabled-bg-color: #DDD;\n",
              "  }\n",
              "\n",
              "  [theme=dark] .colab-df-quickchart {\n",
              "      --bg-color: #3B4455;\n",
              "      --fill-color: #D2E3FC;\n",
              "      --hover-bg-color: #434B5C;\n",
              "      --hover-fill-color: #FFFFFF;\n",
              "      --disabled-bg-color: #3B4455;\n",
              "      --disabled-fill-color: #666;\n",
              "  }\n",
              "\n",
              "  .colab-df-quickchart {\n",
              "    background-color: var(--bg-color);\n",
              "    border: none;\n",
              "    border-radius: 50%;\n",
              "    cursor: pointer;\n",
              "    display: none;\n",
              "    fill: var(--fill-color);\n",
              "    height: 32px;\n",
              "    padding: 0;\n",
              "    width: 32px;\n",
              "  }\n",
              "\n",
              "  .colab-df-quickchart:hover {\n",
              "    background-color: var(--hover-bg-color);\n",
              "    box-shadow: 0 1px 2px rgba(60, 64, 67, 0.3), 0 1px 3px 1px rgba(60, 64, 67, 0.15);\n",
              "    fill: var(--button-hover-fill-color);\n",
              "  }\n",
              "\n",
              "  .colab-df-quickchart-complete:disabled,\n",
              "  .colab-df-quickchart-complete:disabled:hover {\n",
              "    background-color: var(--disabled-bg-color);\n",
              "    fill: var(--disabled-fill-color);\n",
              "    box-shadow: none;\n",
              "  }\n",
              "\n",
              "  .colab-df-spinner {\n",
              "    border: 2px solid var(--fill-color);\n",
              "    border-color: transparent;\n",
              "    border-bottom-color: var(--fill-color);\n",
              "    animation:\n",
              "      spin 1s steps(1) infinite;\n",
              "  }\n",
              "\n",
              "  @keyframes spin {\n",
              "    0% {\n",
              "      border-color: transparent;\n",
              "      border-bottom-color: var(--fill-color);\n",
              "      border-left-color: var(--fill-color);\n",
              "    }\n",
              "    20% {\n",
              "      border-color: transparent;\n",
              "      border-left-color: var(--fill-color);\n",
              "      border-top-color: var(--fill-color);\n",
              "    }\n",
              "    30% {\n",
              "      border-color: transparent;\n",
              "      border-left-color: var(--fill-color);\n",
              "      border-top-color: var(--fill-color);\n",
              "      border-right-color: var(--fill-color);\n",
              "    }\n",
              "    40% {\n",
              "      border-color: transparent;\n",
              "      border-right-color: var(--fill-color);\n",
              "      border-top-color: var(--fill-color);\n",
              "    }\n",
              "    60% {\n",
              "      border-color: transparent;\n",
              "      border-right-color: var(--fill-color);\n",
              "    }\n",
              "    80% {\n",
              "      border-color: transparent;\n",
              "      border-right-color: var(--fill-color);\n",
              "      border-bottom-color: var(--fill-color);\n",
              "    }\n",
              "    90% {\n",
              "      border-color: transparent;\n",
              "      border-bottom-color: var(--fill-color);\n",
              "    }\n",
              "  }\n",
              "</style>\n",
              "\n",
              "      <script>\n",
              "        async function quickchart(key) {\n",
              "          const quickchartButtonEl =\n",
              "            document.querySelector('#' + key + ' button');\n",
              "          quickchartButtonEl.disabled = true;  // To prevent multiple clicks.\n",
              "          quickchartButtonEl.classList.add('colab-df-spinner');\n",
              "          try {\n",
              "            const charts = await google.colab.kernel.invokeFunction(\n",
              "                'suggestCharts', [key], {});\n",
              "          } catch (error) {\n",
              "            console.error('Error during call to suggestCharts:', error);\n",
              "          }\n",
              "          quickchartButtonEl.classList.remove('colab-df-spinner');\n",
              "          quickchartButtonEl.classList.add('colab-df-quickchart-complete');\n",
              "        }\n",
              "        (() => {\n",
              "          let quickchartButtonEl =\n",
              "            document.querySelector('#df-b7c2e02c-dac1-4df0-a186-40914c7c0d5b button');\n",
              "          quickchartButtonEl.style.display =\n",
              "            google.colab.kernel.accessAllowed ? 'block' : 'none';\n",
              "        })();\n",
              "      </script>\n",
              "    </div>\n",
              "\n",
              "  <div id=\"id_dfe31c7f-e821-46fe-a2ba-ce049520b851\">\n",
              "    <style>\n",
              "      .colab-df-generate {\n",
              "        background-color: #E8F0FE;\n",
              "        border: none;\n",
              "        border-radius: 50%;\n",
              "        cursor: pointer;\n",
              "        display: none;\n",
              "        fill: #1967D2;\n",
              "        height: 32px;\n",
              "        padding: 0 0 0 0;\n",
              "        width: 32px;\n",
              "      }\n",
              "\n",
              "      .colab-df-generate:hover {\n",
              "        background-color: #E2EBFA;\n",
              "        box-shadow: 0px 1px 2px rgba(60, 64, 67, 0.3), 0px 1px 3px 1px rgba(60, 64, 67, 0.15);\n",
              "        fill: #174EA6;\n",
              "      }\n",
              "\n",
              "      [theme=dark] .colab-df-generate {\n",
              "        background-color: #3B4455;\n",
              "        fill: #D2E3FC;\n",
              "      }\n",
              "\n",
              "      [theme=dark] .colab-df-generate:hover {\n",
              "        background-color: #434B5C;\n",
              "        box-shadow: 0px 1px 3px 1px rgba(0, 0, 0, 0.15);\n",
              "        filter: drop-shadow(0px 1px 2px rgba(0, 0, 0, 0.3));\n",
              "        fill: #FFFFFF;\n",
              "      }\n",
              "    </style>\n",
              "    <button class=\"colab-df-generate\" onclick=\"generateWithVariable('df')\"\n",
              "            title=\"Generate code using this dataframe.\"\n",
              "            style=\"display:none;\">\n",
              "\n",
              "  <svg xmlns=\"http://www.w3.org/2000/svg\" height=\"24px\"viewBox=\"0 0 24 24\"\n",
              "       width=\"24px\">\n",
              "    <path d=\"M7,19H8.4L18.45,9,17,7.55,7,17.6ZM5,21V16.75L18.45,3.32a2,2,0,0,1,2.83,0l1.4,1.43a1.91,1.91,0,0,1,.58,1.4,1.91,1.91,0,0,1-.58,1.4L9.25,21ZM18.45,9,17,7.55Zm-12,3A5.31,5.31,0,0,0,4.9,8.1,5.31,5.31,0,0,0,1,6.5,5.31,5.31,0,0,0,4.9,4.9,5.31,5.31,0,0,0,6.5,1,5.31,5.31,0,0,0,8.1,4.9,5.31,5.31,0,0,0,12,6.5,5.46,5.46,0,0,0,6.5,12Z\"/>\n",
              "  </svg>\n",
              "    </button>\n",
              "    <script>\n",
              "      (() => {\n",
              "      const buttonEl =\n",
              "        document.querySelector('#id_dfe31c7f-e821-46fe-a2ba-ce049520b851 button.colab-df-generate');\n",
              "      buttonEl.style.display =\n",
              "        google.colab.kernel.accessAllowed ? 'block' : 'none';\n",
              "\n",
              "      buttonEl.onclick = () => {\n",
              "        google.colab.notebook.generateWithVariable('df');\n",
              "      }\n",
              "      })();\n",
              "    </script>\n",
              "  </div>\n",
              "\n",
              "    </div>\n",
              "  </div>\n"
            ],
            "application/vnd.google.colaboratory.intrinsic+json": {
              "type": "dataframe",
              "variable_name": "df",
              "summary": "{\n  \"name\": \"df\",\n  \"rows\": 3,\n  \"fields\": [\n    {\n      \"column\": \"areasqft\",\n      \"properties\": {\n        \"dtype\": \"number\",\n        \"std\": 1182,\n        \"min\": 2140,\n        \"max\": 4500,\n        \"num_unique_values\": 3,\n        \"samples\": [\n          2140,\n          4500,\n          3200\n        ],\n        \"semantic_type\": \"\",\n        \"description\": \"\"\n      }\n    },\n    {\n      \"column\": \"bedrooms\",\n      \"properties\": {\n        \"dtype\": \"number\",\n        \"std\": 1,\n        \"min\": 2,\n        \"max\": 5,\n        \"num_unique_values\": 3,\n        \"samples\": [\n          2,\n          3,\n          5\n        ],\n        \"semantic_type\": \"\",\n        \"description\": \"\"\n      }\n    },\n    {\n      \"column\": \"avrageyears\",\n      \"properties\": {\n        \"dtype\": \"number\",\n        \"std\": 4,\n        \"min\": 15,\n        \"max\": 23,\n        \"num_unique_values\": 3,\n        \"samples\": [\n          15,\n          20,\n          23\n        ],\n        \"semantic_type\": \"\",\n        \"description\": \"\"\n      }\n    },\n    {\n      \"column\": \"price\",\n      \"properties\": {\n        \"dtype\": \"number\",\n        \"std\": 173,\n        \"min\": 230,\n        \"max\": 560,\n        \"num_unique_values\": 3,\n        \"samples\": [\n          300,\n          230,\n          560\n        ],\n        \"semantic_type\": \"\",\n        \"description\": \"\"\n      }\n    }\n  ]\n}"
            }
          },
          "metadata": {},
          "execution_count": 13
        }
      ]
    },
    {
      "cell_type": "markdown",
      "source": [
        "TENSOR (PyTorch and TensorFlow)"
      ],
      "metadata": {
        "id": "MqUhwUwm1pmp"
      }
    },
    {
      "cell_type": "code",
      "source": [
        "import torch\n",
        "x = torch.tensor(5)\n",
        "x"
      ],
      "metadata": {
        "id": "aq7xg53dB5rp",
        "colab": {
          "base_uri": "https://localhost:8080/"
        },
        "outputId": "7a819767-f3d2-4bbd-821e-6a78beef1734"
      },
      "execution_count": 2,
      "outputs": [
        {
          "output_type": "execute_result",
          "data": {
            "text/plain": [
              "tensor(5)"
            ]
          },
          "metadata": {},
          "execution_count": 2
        }
      ]
    },
    {
      "cell_type": "code",
      "source": [
        "import tensorflow as tf\n",
        "y = tf.Variable(10)\n",
        "y"
      ],
      "metadata": {
        "colab": {
          "base_uri": "https://localhost:8080/"
        },
        "id": "G_SC8mpf2AJ2",
        "outputId": "59fe936e-a5d8-46bf-f579-b9b098377dfe"
      },
      "execution_count": 6,
      "outputs": [
        {
          "output_type": "execute_result",
          "data": {
            "text/plain": [
              "<tf.Variable 'Variable:0' shape=() dtype=int32, numpy=10>"
            ]
          },
          "metadata": {},
          "execution_count": 6
        }
      ]
    },
    {
      "cell_type": "code",
      "source": [],
      "metadata": {
        "id": "xgLtdeY62ZW_"
      },
      "execution_count": null,
      "outputs": []
    },
    {
      "cell_type": "markdown",
      "metadata": {
        "id": "e0dcf1c5"
      },
      "source": [
        "## Deque\n",
        "\n",
        "`deque` (double-ended queue) is a list-like container with fast appends and pops from both ends. It's part of the `collections` module and is more memory-efficient for certain operations compared to a standard list."
      ]
    },
    {
      "cell_type": "code",
      "metadata": {
        "colab": {
          "base_uri": "https://localhost:8080/"
        },
        "id": "e0548189",
        "outputId": "5f3b1a25-707c-4447-b97f-a356004034da"
      },
      "source": [
        "from collections import deque\n",
        "\n",
        "# Creating a deque\n",
        "my_deque = deque([1, 2, 3, 4, 5])\n",
        "print(\"My deque:\", my_deque)\n",
        "\n",
        "# Appending to both ends\n",
        "my_deque.append(6)\n",
        "my_deque.appendleft(0)\n",
        "print(\"Deque after appending:\", my_deque)\n",
        "\n",
        "# Popping from both ends\n",
        "my_deque.pop()\n",
        "my_deque.popleft()\n",
        "print(\"Deque after popping:\", my_deque)"
      ],
      "execution_count": 7,
      "outputs": [
        {
          "output_type": "stream",
          "name": "stdout",
          "text": [
            "My deque: deque([1, 2, 3, 4, 5])\n",
            "Deque after appending: deque([0, 1, 2, 3, 4, 5, 6])\n",
            "Deque after popping: deque([1, 2, 3, 4, 5])\n"
          ]
        }
      ]
    },
    {
      "cell_type": "code",
      "source": [],
      "metadata": {
        "id": "w9i867_C3Svn"
      },
      "execution_count": null,
      "outputs": []
    }
  ]
}