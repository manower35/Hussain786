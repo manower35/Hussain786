{
  "nbformat": 4,
  "nbformat_minor": 0,
  "metadata": {
    "colab": {
      "provenance": [],
      "authorship_tag": "ABX9TyOOLq5jOpS2sjNIwUynsavF",
      "include_colab_link": true
    },
    "kernelspec": {
      "name": "python3",
      "display_name": "Python 3"
    },
    "language_info": {
      "name": "python"
    }
  },
  "cells": [
    {
      "cell_type": "markdown",
      "metadata": {
        "id": "view-in-github",
        "colab_type": "text"
      },
      "source": [
        "<a href=\"https://colab.research.google.com/github/manower35/Hussain786/blob/main/Loop.ipynb\" target=\"_parent\"><img src=\"https://colab.research.google.com/assets/colab-badge.svg\" alt=\"Open In Colab\"/></a>"
      ]
    },
    {
      "cell_type": "code",
      "execution_count": 3,
      "metadata": {
        "id": "BgMI2I3cWTGn",
        "colab": {
          "base_uri": "https://localhost:8080/"
        },
        "outputId": "c5ad4b15-1503-40f9-b48a-8713a273c96b"
      },
      "outputs": [
        {
          "output_type": "stream",
          "name": "stdout",
          "text": [
            "<built-in method upper of str object at 0x79b5feceed70>\n",
            "Ml\n",
            "Dl\n",
            "Cv\n",
            "Genai\n"
          ]
        }
      ],
      "source": [
        "skills = [\"ai\", \"ml\", \"dl\", \"cv\", \"genai\"]\n",
        "for skill in skills:\n",
        "    if skill == \"ai\":\n",
        "        print(skill.upper)\n",
        "    else:\n",
        "        print(skill.title())"
      ]
    },
    {
      "cell_type": "code",
      "source": [
        "skills = [\"ai\", \"ml\", \"dl\", \"cv\", \"genai\"]\n",
        "for skill in skills:\n",
        "    if skill == \"ai\":\n",
        "        # Add parentheses () to CALL the method\n",
        "        print(skill.upper())\n",
        "    else:\n",
        "        print(skill.title())"
      ],
      "metadata": {
        "colab": {
          "base_uri": "https://localhost:8080/"
        },
        "id": "Z70TPCnpRizg",
        "outputId": "cfed733d-4a6d-4474-9074-98d797c77ba5"
      },
      "execution_count": 4,
      "outputs": [
        {
          "output_type": "stream",
          "name": "stdout",
          "text": [
            "AI\n",
            "Ml\n",
            "Dl\n",
            "Cv\n",
            "Genai\n"
          ]
        }
      ]
    },
    {
      "cell_type": "markdown",
      "source": [
        "if statement"
      ],
      "metadata": {
        "id": "DjYNXTuETfc6"
      }
    },
    {
      "cell_type": "code",
      "source": [
        "age = 20\n",
        "if age >= 18:\n",
        "    print(\"you age are old enough to vote\")"
      ],
      "metadata": {
        "colab": {
          "base_uri": "https://localhost:8080/"
        },
        "id": "g4UoqUEDTBwk",
        "outputId": "830317e8-14d6-4972-80f3-1e0951fb921d"
      },
      "execution_count": 6,
      "outputs": [
        {
          "output_type": "stream",
          "name": "stdout",
          "text": [
            "you age are old enough to vote\n"
          ]
        }
      ]
    },
    {
      "cell_type": "markdown",
      "source": [
        "if else statements"
      ],
      "metadata": {
        "id": "aXhZMH2FUehd"
      }
    },
    {
      "cell_type": "code",
      "source": [
        "age = 17\n",
        "if age >=18:\n",
        "    print(\"you are old enough to vote\")\n",
        "else:\n",
        "    print(\"sorry, you are too young to vote\")\n",
        "    print(\"please register to vote as soon as you turn 18!\")"
      ],
      "metadata": {
        "colab": {
          "base_uri": "https://localhost:8080/"
        },
        "id": "oPmcjrnfT1_8",
        "outputId": "8a2b5757-7fea-4790-bfba-932c85a90a9d"
      },
      "execution_count": 8,
      "outputs": [
        {
          "output_type": "stream",
          "name": "stdout",
          "text": [
            "sorry, you are too young to vote\n",
            "please register to vote as soon as you turn 18!\n"
          ]
        }
      ]
    },
    {
      "cell_type": "markdown",
      "source": [
        "the if-elif-else chain"
      ],
      "metadata": {
        "id": "Gh0oQ1TEVUx1"
      }
    },
    {
      "cell_type": "code",
      "source": [
        "age = 13\n",
        "if age < 4:\n",
        "    print(\"your admission cost is $0\")\n",
        "elif age < 18:\n",
        "    print(\"your admission cost is $25\")\n",
        "else:\n",
        "    print(\"your admission cost is $40\")"
      ],
      "metadata": {
        "colab": {
          "base_uri": "https://localhost:8080/"
        },
        "id": "ikOjbnZLU_zP",
        "outputId": "013d433b-18bf-41f4-ec84-b026221d7fa5"
      },
      "execution_count": 9,
      "outputs": [
        {
          "output_type": "stream",
          "name": "stdout",
          "text": [
            "your admission cost is $25\n"
          ]
        }
      ]
    },
    {
      "cell_type": "code",
      "source": [],
      "metadata": {
        "id": "9Hm08IMkWFQN"
      },
      "execution_count": null,
      "outputs": []
    }
  ]
}