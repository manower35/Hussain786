{
  "nbformat": 4,
  "nbformat_minor": 0,
  "metadata": {
    "colab": {
      "provenance": [],
      "authorship_tag": "ABX9TyNz9TGknRpKp7TNWHbR/lO2",
      "include_colab_link": true
    },
    "kernelspec": {
      "name": "python3",
      "display_name": "Python 3"
    },
    "language_info": {
      "name": "python"
    }
  },
  "cells": [
    {
      "cell_type": "markdown",
      "metadata": {
        "id": "view-in-github",
        "colab_type": "text"
      },
      "source": [
        "<a href=\"https://colab.research.google.com/github/manower35/Hussain786/blob/main/Python_Basic.ipynb\" target=\"_parent\"><img src=\"https://colab.research.google.com/assets/colab-badge.svg\" alt=\"Open In Colab\"/></a>"
      ]
    },
    {
      "cell_type": "markdown",
      "source": [
        "VARIABLES AND SIMPLE DATA TYPES"
      ],
      "metadata": {
        "id": "uHPAP0qUi9l5"
      }
    },
    {
      "cell_type": "code",
      "execution_count": null,
      "metadata": {
        "colab": {
          "base_uri": "https://localhost:8080/"
        },
        "id": "YMd2psjJgcl-",
        "outputId": "f26f974d-4b7d-4ef3-8b9f-b04746b21af3"
      },
      "outputs": [
        {
          "output_type": "stream",
          "name": "stdout",
          "text": [
            "hello python world!\n"
          ]
        }
      ],
      "source": [
        "print(\"hello python world!\")"
      ]
    },
    {
      "cell_type": "code",
      "source": [
        "message = \"hello python world!\"\n",
        "print(message)"
      ],
      "metadata": {
        "colab": {
          "base_uri": "https://localhost:8080/"
        },
        "id": "LgkuovFRja6M",
        "outputId": "c1e3937b-ce07-49e5-8ce1-5caecd72798a"
      },
      "execution_count": null,
      "outputs": [
        {
          "output_type": "stream",
          "name": "stdout",
          "text": [
            "hello python world!\n"
          ]
        }
      ]
    },
    {
      "cell_type": "markdown",
      "source": [
        "Avoiding name errors when using variables"
      ],
      "metadata": {
        "id": "4pdRY5f4kLSR"
      }
    },
    {
      "cell_type": "code",
      "source": [
        "message = \"hellow python in this notenook!\"\n",
        "print(mesage)"
      ],
      "metadata": {
        "colab": {
          "base_uri": "https://localhost:8080/",
          "height": 158
        },
        "id": "JoCWpsWwjtag",
        "outputId": "4484fdd2-b539-4b26-bdc7-735e2ca10b5b"
      },
      "execution_count": null,
      "outputs": [
        {
          "output_type": "error",
          "ename": "NameError",
          "evalue": "name 'mesage' is not defined",
          "traceback": [
            "\u001b[0;31m---------------------------------------------------------------------------\u001b[0m",
            "\u001b[0;31mNameError\u001b[0m                                 Traceback (most recent call last)",
            "\u001b[0;32m/tmp/ipython-input-4-2830505406.py\u001b[0m in \u001b[0;36m<cell line: 0>\u001b[0;34m()\u001b[0m\n\u001b[1;32m      1\u001b[0m \u001b[0mmessage\u001b[0m \u001b[0;34m=\u001b[0m \u001b[0;34m\"hellow python in this notenook!\"\u001b[0m\u001b[0;34m\u001b[0m\u001b[0;34m\u001b[0m\u001b[0m\n\u001b[0;32m----> 2\u001b[0;31m \u001b[0mprint\u001b[0m\u001b[0;34m(\u001b[0m\u001b[0mmesage\u001b[0m\u001b[0;34m)\u001b[0m\u001b[0;34m\u001b[0m\u001b[0;34m\u001b[0m\u001b[0m\n\u001b[0m",
            "\u001b[0;31mNameError\u001b[0m: name 'mesage' is not defined"
          ]
        }
      ]
    },
    {
      "cell_type": "code",
      "source": [
        "message = \"hello python in this notebook\"\n",
        "print(message)"
      ],
      "metadata": {
        "colab": {
          "base_uri": "https://localhost:8080/"
        },
        "id": "Ofatg1xvkGKK",
        "outputId": "4f89e7b1-b58e-447a-daf3-5077d531a5a5"
      },
      "execution_count": null,
      "outputs": [
        {
          "output_type": "stream",
          "name": "stdout",
          "text": [
            "hello python in this notebook\n"
          ]
        }
      ]
    },
    {
      "cell_type": "markdown",
      "source": [
        "STRINGS"
      ],
      "metadata": {
        "id": "G9mHmFuDlU1p"
      }
    },
    {
      "cell_type": "code",
      "source": [
        "string_variable = \"this is string\"\n",
        "print(string_variable)"
      ],
      "metadata": {
        "colab": {
          "base_uri": "https://localhost:8080/"
        },
        "id": "Vr0Jh0khk4kb",
        "outputId": "861ccf8c-c8da-40e7-922f-b90fcc1de4c7"
      },
      "execution_count": null,
      "outputs": [
        {
          "output_type": "stream",
          "name": "stdout",
          "text": [
            "this is string\n"
          ]
        }
      ]
    },
    {
      "cell_type": "markdown",
      "source": [
        "CHANGING CASE IN A STRING WITH METHOD"
      ],
      "metadata": {
        "id": "gtHwtc3kLPjz"
      }
    },
    {
      "cell_type": "code",
      "source": [
        "name_1 = \"md manower hussain\"\n",
        "print(name_1.title())"
      ],
      "metadata": {
        "id": "o_jsQirglrMV",
        "colab": {
          "base_uri": "https://localhost:8080/"
        },
        "outputId": "be05b286-ab79-4e94-b429-c440cd72142c"
      },
      "execution_count": 2,
      "outputs": [
        {
          "output_type": "stream",
          "name": "stdout",
          "text": [
            "Md Manower Hussain\n"
          ]
        }
      ]
    },
    {
      "cell_type": "code",
      "source": [
        "print(name_1.upper())\n",
        "print(name_1.lower())"
      ],
      "metadata": {
        "colab": {
          "base_uri": "https://localhost:8080/"
        },
        "id": "GyouTSUDL7ny",
        "outputId": "261a0a32-e288-42ad-c280-7d08723352b3"
      },
      "execution_count": 4,
      "outputs": [
        {
          "output_type": "stream",
          "name": "stdout",
          "text": [
            "MD MANOWER HUSSAIN\n",
            "md manower hussain\n"
          ]
        }
      ]
    },
    {
      "cell_type": "markdown",
      "source": [
        "USING VARIABLES IN STRING"
      ],
      "metadata": {
        "id": "9b2Gz_zsNloM"
      }
    },
    {
      "cell_type": "code",
      "source": [
        "first_name = \"md manower\"\n",
        "last_name = \"hussain\"\n",
        "full_name = f\"{first_name} {last_name}\"\n",
        "full_name"
      ],
      "metadata": {
        "colab": {
          "base_uri": "https://localhost:8080/",
          "height": 36
        },
        "id": "v-ccUsIINYdF",
        "outputId": "fb278b5c-0cba-400a-b64d-1d822970f8f3"
      },
      "execution_count": 5,
      "outputs": [
        {
          "output_type": "execute_result",
          "data": {
            "text/plain": [
              "'md manower hussain'"
            ],
            "application/vnd.google.colaboratory.intrinsic+json": {
              "type": "string"
            }
          },
          "metadata": {},
          "execution_count": 5
        }
      ]
    },
    {
      "cell_type": "code",
      "source": [
        "print(f\"hello, {full_name.title()}!\")"
      ],
      "metadata": {
        "colab": {
          "base_uri": "https://localhost:8080/"
        },
        "id": "-SlGMsg2ON4h",
        "outputId": "dce6aa15-d426-4ce0-bda7-d9d89da078fd"
      },
      "execution_count": 7,
      "outputs": [
        {
          "output_type": "stream",
          "name": "stdout",
          "text": [
            "hello, Md Manower Hussain!\n"
          ]
        }
      ]
    },
    {
      "cell_type": "code",
      "source": [
        "message = f\"hello, {full_name.title()}!\"\n",
        "message"
      ],
      "metadata": {
        "colab": {
          "base_uri": "https://localhost:8080/",
          "height": 36
        },
        "id": "wfvpfyiwPii5",
        "outputId": "2a264850-485c-4076-8209-a0855c55d273"
      },
      "execution_count": 9,
      "outputs": [
        {
          "output_type": "execute_result",
          "data": {
            "text/plain": [
              "'hello, Md Manower Hussain!'"
            ],
            "application/vnd.google.colaboratory.intrinsic+json": {
              "type": "string"
            }
          },
          "metadata": {},
          "execution_count": 9
        }
      ]
    },
    {
      "cell_type": "markdown",
      "source": [
        "ADDING WHITESPACE TO STRINGS WITH TABS OR NEWLINES"
      ],
      "metadata": {
        "id": "urfQwXltQS5q"
      }
    },
    {
      "cell_type": "code",
      "source": [
        "print(\"python\")\n",
        "print(\"\\tpython\")"
      ],
      "metadata": {
        "colab": {
          "base_uri": "https://localhost:8080/"
        },
        "id": "HCqYgg_vQM1U",
        "outputId": "4cde5793-5ab7-4c35-ff25-72f3edaa508a"
      },
      "execution_count": 10,
      "outputs": [
        {
          "output_type": "stream",
          "name": "stdout",
          "text": [
            "python\n",
            "\tpython\n"
          ]
        }
      ]
    },
    {
      "cell_type": "code",
      "source": [
        "print(\"language: \\npython\\njava\")"
      ],
      "metadata": {
        "colab": {
          "base_uri": "https://localhost:8080/"
        },
        "id": "kWiEo24MWg2i",
        "outputId": "4a2dbb29-1e0d-4aa0-c627-2839dcbcef39"
      },
      "execution_count": 11,
      "outputs": [
        {
          "output_type": "stream",
          "name": "stdout",
          "text": [
            "language: \n",
            "python\n",
            "java\n"
          ]
        }
      ]
    },
    {
      "cell_type": "code",
      "source": [
        "print(\"language:\\n\\tpython\\n\\tjava\")"
      ],
      "metadata": {
        "colab": {
          "base_uri": "https://localhost:8080/"
        },
        "id": "bmbbw7a5W4cX",
        "outputId": "c78c1ba0-5d3c-430b-8c41-b13abe9e2807"
      },
      "execution_count": 12,
      "outputs": [
        {
          "output_type": "stream",
          "name": "stdout",
          "text": [
            "language:\n",
            "\tpython\n",
            "\tjava\n"
          ]
        }
      ]
    },
    {
      "cell_type": "markdown",
      "source": [
        "STRIPPING WHITESPACE"
      ],
      "metadata": {
        "id": "r3vNYcf1YVTe"
      }
    },
    {
      "cell_type": "code",
      "source": [
        "fav_lang = '   python  '\n",
        "fav_lang"
      ],
      "metadata": {
        "colab": {
          "base_uri": "https://localhost:8080/",
          "height": 36
        },
        "id": "KkBlOjj2XHtR",
        "outputId": "dc863ac0-1cdf-43ae-b2b1-d5795fe67d11"
      },
      "execution_count": 15,
      "outputs": [
        {
          "output_type": "execute_result",
          "data": {
            "text/plain": [
              "'   python  '"
            ],
            "application/vnd.google.colaboratory.intrinsic+json": {
              "type": "string"
            }
          },
          "metadata": {},
          "execution_count": 15
        }
      ]
    },
    {
      "cell_type": "code",
      "source": [
        "fav_lang.rstrip()"
      ],
      "metadata": {
        "colab": {
          "base_uri": "https://localhost:8080/",
          "height": 36
        },
        "id": "ZE9npjkaYsHY",
        "outputId": "10014a1c-219b-4ff9-94d5-6903693df9f8"
      },
      "execution_count": 16,
      "outputs": [
        {
          "output_type": "execute_result",
          "data": {
            "text/plain": [
              "'   python'"
            ],
            "application/vnd.google.colaboratory.intrinsic+json": {
              "type": "string"
            }
          },
          "metadata": {},
          "execution_count": 16
        }
      ]
    },
    {
      "cell_type": "code",
      "source": [
        "fav_lang.lstrip()"
      ],
      "metadata": {
        "colab": {
          "base_uri": "https://localhost:8080/",
          "height": 36
        },
        "id": "qpTmjqoQY8U5",
        "outputId": "ed2900d5-e676-4f56-d47e-c20f630bb101"
      },
      "execution_count": 17,
      "outputs": [
        {
          "output_type": "execute_result",
          "data": {
            "text/plain": [
              "'python  '"
            ],
            "application/vnd.google.colaboratory.intrinsic+json": {
              "type": "string"
            }
          },
          "metadata": {},
          "execution_count": 17
        }
      ]
    },
    {
      "cell_type": "code",
      "source": [
        "fav_lang.strip()"
      ],
      "metadata": {
        "colab": {
          "base_uri": "https://localhost:8080/",
          "height": 36
        },
        "id": "5FPIq3WKZM84",
        "outputId": "c1ebf272-2af6-4979-9473-ce7293f06e5c"
      },
      "execution_count": 18,
      "outputs": [
        {
          "output_type": "execute_result",
          "data": {
            "text/plain": [
              "'python'"
            ],
            "application/vnd.google.colaboratory.intrinsic+json": {
              "type": "string"
            }
          },
          "metadata": {},
          "execution_count": 18
        }
      ]
    },
    {
      "cell_type": "markdown",
      "source": [
        "REMOVING PREFIXES"
      ],
      "metadata": {
        "id": "WN9JwqQuZqIc"
      }
    },
    {
      "cell_type": "markdown",
      "metadata": {
        "id": "0fa3ebcd"
      },
      "source": [
        "### REMOVING PREFIXES\n",
        "\n",
        "In Python, you can remove a specified prefix from a string using the `removeprefix()` method. This method was introduced in Python 3.9. If the string starts with the prefix, the method returns a new string with the prefix removed. Otherwise, it returns the original string."
      ]
    },
    {
      "cell_type": "code",
      "metadata": {
        "colab": {
          "base_uri": "https://localhost:8080/"
        },
        "id": "7d788deb",
        "outputId": "3c73d7d5-e018-4594-bb2a-979468ca33e2"
      },
      "source": [
        "url = \"https://www.example.com\"\n",
        "# Remove the \"https://\" prefix\n",
        "new_url = url.removeprefix(\"https://\")\n",
        "print(new_url)\n",
        "\n",
        "# Example where the prefix is not present\n",
        "text = \"hello world\"\n",
        "new_text = text.removeprefix(\"goodbye \")\n",
        "print(new_text)"
      ],
      "execution_count": 19,
      "outputs": [
        {
          "output_type": "stream",
          "name": "stdout",
          "text": [
            "www.example.com\n",
            "hello world\n"
          ]
        }
      ]
    },
    {
      "cell_type": "markdown",
      "source": [
        "AVOIDING SYNTAX ERRORS WITH STRINGS"
      ],
      "metadata": {
        "id": "OlVV8RoTchP8"
      }
    },
    {
      "cell_type": "code",
      "source": [
        "message_2 = \"python is best language in ai and ml context. it's syntax is simple\"\n",
        "message_2"
      ],
      "metadata": {
        "colab": {
          "base_uri": "https://localhost:8080/",
          "height": 36
        },
        "id": "pDnwLdJiblBS",
        "outputId": "0c43a0df-acf6-4a6a-fe7b-323223cefeb7"
      },
      "execution_count": 20,
      "outputs": [
        {
          "output_type": "execute_result",
          "data": {
            "text/plain": [
              "\"python is best language in ai and ml context. it's syntax is simple\""
            ],
            "application/vnd.google.colaboratory.intrinsic+json": {
              "type": "string"
            }
          },
          "metadata": {},
          "execution_count": 20
        }
      ]
    },
    {
      "cell_type": "code",
      "source": [
        "message_3 = 'python is best language in ai and ml context. it's syntax is simple'\n",
        "message_3"
      ],
      "metadata": {
        "colab": {
          "base_uri": "https://localhost:8080/",
          "height": 106
        },
        "id": "cth3bQJLdRJ7",
        "outputId": "69fc6d0f-c38e-46ea-97bd-0a2264d03cdf"
      },
      "execution_count": 21,
      "outputs": [
        {
          "output_type": "error",
          "ename": "SyntaxError",
          "evalue": "unterminated string literal (detected at line 1) (ipython-input-21-3357860950.py, line 1)",
          "traceback": [
            "\u001b[0;36m  File \u001b[0;32m\"/tmp/ipython-input-21-3357860950.py\"\u001b[0;36m, line \u001b[0;32m1\u001b[0m\n\u001b[0;31m    message_3 = 'python is best language in ai and ml context. it's syntax is simple'\u001b[0m\n\u001b[0m                                                                                    ^\u001b[0m\n\u001b[0;31mSyntaxError\u001b[0m\u001b[0;31m:\u001b[0m unterminated string literal (detected at line 1)\n"
          ]
        }
      ]
    },
    {
      "cell_type": "markdown",
      "source": [
        "NUMBERS: INTEGERS, FLOATS, COMLEX NUMBERS ETC."
      ],
      "metadata": {
        "id": "2ggKsVm4eTCj"
      }
    },
    {
      "cell_type": "code",
      "source": [
        "age = 32\n",
        "height = 5.6\n",
        "email_id = \"manower35@gmail.com\"\n",
        "com_vari = 2 + 3j\n",
        "print(age, height, email_id, com_vari)"
      ],
      "metadata": {
        "colab": {
          "base_uri": "https://localhost:8080/"
        },
        "id": "nOJsnDzZf20j",
        "outputId": "431f5ec7-0de4-4c23-b726-86cc39d21879"
      },
      "execution_count": 28,
      "outputs": [
        {
          "output_type": "stream",
          "name": "stdout",
          "text": [
            "32 5.6 manower35@gmail.com (2+3j)\n"
          ]
        }
      ]
    },
    {
      "cell_type": "code",
      "source": [
        "print(type(age))\n",
        "print(type(height))\n",
        "print(type(email_id))\n",
        "print(type(com_vari))"
      ],
      "metadata": {
        "colab": {
          "base_uri": "https://localhost:8080/"
        },
        "id": "OkgQW8YFgaW7",
        "outputId": "eb7c3faa-a77a-4bc8-c4f3-ac69274a14d7"
      },
      "execution_count": 29,
      "outputs": [
        {
          "output_type": "stream",
          "name": "stdout",
          "text": [
            "<class 'int'>\n",
            "<class 'float'>\n",
            "<class 'str'>\n",
            "<class 'complex'>\n"
          ]
        }
      ]
    },
    {
      "cell_type": "code",
      "source": [
        "real_num = com_vari.real\n",
        "complex_num = com_vari.imag\n",
        "print(real_num)\n",
        "print(complex_num)"
      ],
      "metadata": {
        "colab": {
          "base_uri": "https://localhost:8080/"
        },
        "id": "FmdljmFuhdSQ",
        "outputId": "44c7bb82-a138-45e3-d40a-97215d6bfe1f"
      },
      "execution_count": 35,
      "outputs": [
        {
          "output_type": "stream",
          "name": "stdout",
          "text": [
            "2.0\n",
            "3.0\n"
          ]
        }
      ]
    },
    {
      "cell_type": "code",
      "source": [
        "vari_1 = 2+4\n",
        "vari_2 = 10.0\n",
        "vari_3 = vari_1 + vari_2\n",
        "print(vari_3)"
      ],
      "metadata": {
        "colab": {
          "base_uri": "https://localhost:8080/"
        },
        "id": "DRoEwnRzipB-",
        "outputId": "44dd7383-a76c-4caf-f72a-8d605d77e025"
      },
      "execution_count": 37,
      "outputs": [
        {
          "output_type": "stream",
          "name": "stdout",
          "text": [
            "16.0\n"
          ]
        }
      ]
    },
    {
      "cell_type": "markdown",
      "source": [
        "UNDERSCORES IN NUMBERS"
      ],
      "metadata": {
        "id": "blgOlt7BlVvQ"
      }
    },
    {
      "cell_type": "code",
      "source": [
        "universe_age = 14_000_000_000\n",
        "universe_age"
      ],
      "metadata": {
        "colab": {
          "base_uri": "https://localhost:8080/"
        },
        "id": "agCZFIM3k24a",
        "outputId": "fefc5b00-3d89-41aa-975f-2838bde84130"
      },
      "execution_count": 39,
      "outputs": [
        {
          "output_type": "execute_result",
          "data": {
            "text/plain": [
              "14000000000"
            ]
          },
          "metadata": {},
          "execution_count": 39
        }
      ]
    },
    {
      "cell_type": "markdown",
      "source": [
        "MULTIPLE ASSIGNMENT"
      ],
      "metadata": {
        "id": "IChfooNnlbEn"
      }
    },
    {
      "cell_type": "code",
      "source": [
        "a,b,c =2,6,9\n",
        "print(a)\n",
        "print(b)\n",
        "print(c)"
      ],
      "metadata": {
        "colab": {
          "base_uri": "https://localhost:8080/"
        },
        "id": "3_Num0lhlSPZ",
        "outputId": "ef9185c5-d6a4-4131-d25a-96bbecaba82a"
      },
      "execution_count": 42,
      "outputs": [
        {
          "output_type": "stream",
          "name": "stdout",
          "text": [
            "2\n",
            "6\n",
            "9\n"
          ]
        }
      ]
    },
    {
      "cell_type": "markdown",
      "source": [
        "COMMENTS (#)"
      ],
      "metadata": {
        "id": "OOhTHiSJmAxQ"
      }
    },
    {
      "cell_type": "code",
      "source": [
        "# Hello attention in ai and ml era\n",
        "print(\"hello attention in ai and ml era\")"
      ],
      "metadata": {
        "colab": {
          "base_uri": "https://localhost:8080/"
        },
        "id": "bWf1H0yClnt_",
        "outputId": "5215ad14-622e-48ce-e39f-f640eec1736f"
      },
      "execution_count": 44,
      "outputs": [
        {
          "output_type": "stream",
          "name": "stdout",
          "text": [
            "hello attention in ai and ml era\n"
          ]
        }
      ]
    },
    {
      "cell_type": "code",
      "source": [],
      "metadata": {
        "id": "BG7NtZ70mV9Y"
      },
      "execution_count": null,
      "outputs": []
    },
    {
      "cell_type": "markdown",
      "metadata": {
        "id": "3a2786de"
      },
      "source": [
        "## The Zen of Python\n",
        "\n",
        "The Zen of Python is a set of principles for writing good Python code, compiled by Tim Peters. It's a reflection of the Python community's philosophy and design principles. You can see it at any time by running `import this` in a Python environment."
      ]
    },
    {
      "cell_type": "code",
      "metadata": {
        "colab": {
          "base_uri": "https://localhost:8080/"
        },
        "id": "b47f8061",
        "outputId": "96b1025c-2ed1-4de9-e51d-941e0d01dfaf"
      },
      "source": [
        "import this"
      ],
      "execution_count": 45,
      "outputs": [
        {
          "output_type": "stream",
          "name": "stdout",
          "text": [
            "The Zen of Python, by Tim Peters\n",
            "\n",
            "Beautiful is better than ugly.\n",
            "Explicit is better than implicit.\n",
            "Simple is better than complex.\n",
            "Complex is better than complicated.\n",
            "Flat is better than nested.\n",
            "Sparse is better than dense.\n",
            "Readability counts.\n",
            "Special cases aren't special enough to break the rules.\n",
            "Although practicality beats purity.\n",
            "Errors should never pass silently.\n",
            "Unless explicitly silenced.\n",
            "In the face of ambiguity, refuse the temptation to guess.\n",
            "There should be one-- and preferably only one --obvious way to do it.\n",
            "Although that way may not be obvious at first unless you're Dutch.\n",
            "Now is better than never.\n",
            "Although never is often better than *right* now.\n",
            "If the implementation is hard to explain, it's a bad idea.\n",
            "If the implementation is easy to explain, it may be a good idea.\n",
            "Namespaces are one honking great idea -- let's do more of those!\n"
          ]
        }
      ]
    },
    {
      "cell_type": "code",
      "source": [],
      "metadata": {
        "id": "nmecNKfenDqW"
      },
      "execution_count": null,
      "outputs": []
    }
  ]
}