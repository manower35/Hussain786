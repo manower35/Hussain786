{
  "nbformat": 4,
  "nbformat_minor": 0,
  "metadata": {
    "colab": {
      "provenance": [],
      "authorship_tag": "ABX9TyOOY+qOR7d8D+28OvQiSpIL",
      "include_colab_link": true
    },
    "kernelspec": {
      "name": "python3",
      "display_name": "Python 3"
    },
    "language_info": {
      "name": "python"
    }
  },
  "cells": [
    {
      "cell_type": "markdown",
      "metadata": {
        "id": "view-in-github",
        "colab_type": "text"
      },
      "source": [
        "<a href=\"https://colab.research.google.com/github/manower35/Hussain786/blob/main/OOP.ipynb\" target=\"_parent\"><img src=\"https://colab.research.google.com/assets/colab-badge.svg\" alt=\"Open In Colab\"/></a>"
      ]
    },
    {
      "cell_type": "markdown",
      "source": [
        "Step1: Classes and Objects (The Blueprint and the Real Thing)"
      ],
      "metadata": {
        "id": "QNyE_RiC4OpS"
      }
    },
    {
      "cell_type": "code",
      "execution_count": 3,
      "metadata": {
        "id": "-30naZYd3Gj-"
      },
      "outputs": [],
      "source": [
        "# A class is defined using the 'class' keyword\n",
        "# By convention, class names start with a capital letter.\n",
        "class Dog:\n",
        "    pass # 'pass' means we're not putting anything in it yet."
      ]
    },
    {
      "cell_type": "code",
      "source": [
        "# 'my_dog' and 'other_dog' are \"objects\" or \"instances\" of the Dog class.\n",
        "my_dog = Dog()\n",
        "other_dog = Dog()\n",
        "\n",
        "print(my_dog)\n",
        "print(other_dog)"
      ],
      "metadata": {
        "colab": {
          "base_uri": "https://localhost:8080/"
        },
        "id": "locEJBuH448b",
        "outputId": "ce66713b-9bc6-4147-8661-03d5c2bc111f"
      },
      "execution_count": 4,
      "outputs": [
        {
          "output_type": "stream",
          "name": "stdout",
          "text": [
            "<__main__.Dog object at 0x783459a7a610>\n",
            "<__main__.Dog object at 0x7834591a2bd0>\n"
          ]
        }
      ]
    },
    {
      "cell_type": "markdown",
      "source": [
        "Step 2: Attributes (The Properties of an Object)"
      ],
      "metadata": {
        "id": "SdOZVIGm5XWa"
      }
    },
    {
      "cell_type": "code",
      "source": [
        "class Dog:\n",
        "    # This is the constructor method. It initializes the object.\n",
        "    # 'self' refers to the specific object being created(e.g, my_dog,other_dog).\n",
        "    # 'name' and 'age' are parameters we'll pass in when creating a dog.\n",
        "    def __init__(self, name, age):\n",
        "        # We assign the passed-in values to the object's attributes.\n",
        "        # self.name means \"this object's name\".\n",
        "        print(f\"A new dog named {name} has been created!\")\n",
        "        self.name = name\n",
        "        self.age = age\n",
        "\n",
        "# Now when we create a Dog, we MUST provide a name and an age.\n",
        "my_dog = Dog(\"Buddy\", 5)\n",
        "other_dog = Dog(\"Lucy\", 3)\n",
        "\n",
        "# We can access these attributes using dot notation.\n",
        "print(f\"My dog's name is {my_dog.name}.\")\n",
        "print(f\"My dog is {my_dog.age} years old.\")\n",
        "\n",
        "print(f\"The other dog's name is {other_dog.name}.\")"
      ],
      "metadata": {
        "colab": {
          "base_uri": "https://localhost:8080/"
        },
        "id": "fB9OWusn5HeZ",
        "outputId": "4e7b300f-c2ef-4cfe-ceaf-ad9c379e829d"
      },
      "execution_count": 5,
      "outputs": [
        {
          "output_type": "stream",
          "name": "stdout",
          "text": [
            "A new dog named Buddy has been created!\n",
            "A new dog named Lucy has been created!\n",
            "My dog's name is Buddy.\n",
            "My dog is 5 years old.\n",
            "The other dog's name is Lucy.\n"
          ]
        }
      ]
    },
    {
      "cell_type": "markdown",
      "source": [
        "Step3: Methods (The Actions an Object Can Do)"
      ],
      "metadata": {
        "id": "d80-8P397HQ2"
      }
    },
    {
      "cell_type": "code",
      "source": [
        "class Dog:\n",
        "    def __init__(self, name, age):\n",
        "        self.name = name\n",
        "        self.age = age\n",
        "\n",
        "    # This is a method. It's a function inside a class.\n",
        "    # It takes 'self' so it can access the object's attributes.\n",
        "    def bark(self):\n",
        "        print(f\"{self.name} says: Woof woof!\")\n",
        "\n",
        "    # Another method\n",
        "    def get_human_years(self):\n",
        "        return self.age * 7\n",
        "\n",
        "# Create an instance of our Dog\n",
        "my_dog = Dog(\"Buddy\", 5)\n",
        "\n",
        "# Call the methods using dot notation\n",
        "my_dog.bark()\n",
        "\n",
        "human_age = my_dog.get_human_years()\n",
        "print(f\"{my_dog.name} is {human_age} in human years.\")"
      ],
      "metadata": {
        "colab": {
          "base_uri": "https://localhost:8080/"
        },
        "id": "ZLVXL-eS6pEI",
        "outputId": "e58f29ac-c89f-4e30-a012-16f92717a91e"
      },
      "execution_count": 6,
      "outputs": [
        {
          "output_type": "stream",
          "name": "stdout",
          "text": [
            "Buddy says: Woof woof!\n",
            "Buddy is 35 in human years.\n"
          ]
        }
      ]
    },
    {
      "cell_type": "code",
      "source": [
        "# This is our original \"Parent\" or \"Base\" class\n",
        "class Dog:\n",
        "    def __init__(self, name, age):\n",
        "        self.name = name\n",
        "        self.age = age\n",
        "\n",
        "    def bark(self):\n",
        "        print(f\"{self.name} says: Woof woof!\")\n",
        "\n",
        "# This is our new \"Child\" or \"Derived\" class\n",
        "# It inherits from Dog. We show this with parentheses: class ServiceDog(Dog):\n",
        "class ServiceDog(Dog):\n",
        "    # It has its own __init__ method\n",
        "    def __init__(self, name, age, task):\n",
        "        # 'super()' lets us call the __init__ method of the parent class (Dog)\n",
        "        # This way, we don't have to rewrite self.name = name and self.age = age\n",
        "        super().__init__(name, age)\n",
        "        self.task = task\n",
        "\n",
        "    # It also has its own unique method\n",
        "    def perform_task(self):\n",
        "        print(f\"{self.name} is helping by performing the task: {self.task}\")\n",
        "\n",
        "# --- Let's test it ---\n",
        "\n",
        "# This is a regular Dog object\n",
        "regular_dog = Dog(\"Lucy\", 3)\n",
        "regular_dog.bark()\n",
        "# regular_dog.perform_task()\n",
        "# This would cause an error! Regular dogs don't have this method.\n",
        "\n",
        "# This is a ServiceDog object\n",
        "my_service_dog = ServiceDog(\"Rex\", 4, \"opening doors\")\n",
        "my_service_dog.bark() # This method was INHERITED from the Dog class!\n",
        "my_service_dog.perform_task() # This is its own special method."
      ],
      "metadata": {
        "colab": {
          "base_uri": "https://localhost:8080/"
        },
        "id": "Ztz9tMOE8F8L",
        "outputId": "40ae2423-27e8-4f0d-d759-ca5ee5801fab"
      },
      "execution_count": 8,
      "outputs": [
        {
          "output_type": "stream",
          "name": "stdout",
          "text": [
            "Lucy says: Woof woof!\n",
            "Rex says: Woof woof!\n",
            "Rex is helping by performing the task: opening doors\n"
          ]
        }
      ]
    },
    {
      "cell_type": "code",
      "source": [
        "class Cat:\n",
        "    def __init__(self, name):\n",
        "        self.name = name\n",
        "\n",
        "    def speak(self):\n",
        "        print(f\"{self.name} says: Meow!\")\n",
        "\n",
        "class Dog:\n",
        "    def __init__(self, name):\n",
        "        self.name = name\n",
        "\n",
        "    def speak(self):\n",
        "        print(f\"{self.name} says: Woof!\")\n",
        "\n",
        "# This function can take ANY object that has a .speak() method\n",
        "def make_animal_speak(animal):\n",
        "    animal.speak()\n",
        "\n",
        "# Create objects of different types\n",
        "my_dog = Dog(\"Buddy\")\n",
        "my_cat = Cat(\"Whiskers\")\n",
        "\n",
        "# Call the same function with different objects\n",
        "make_animal_speak(my_dog)\n",
        "make_animal_speak(my_cat)"
      ],
      "metadata": {
        "id": "jvv9794h9XHM",
        "outputId": "c0344f92-2697-4818-cf56-625ebe5be3d5",
        "colab": {
          "base_uri": "https://localhost:8080/"
        }
      },
      "execution_count": 9,
      "outputs": [
        {
          "output_type": "stream",
          "name": "stdout",
          "text": [
            "Buddy says: Woof!\n",
            "Whiskers says: Meow!\n"
          ]
        }
      ]
    },
    {
      "cell_type": "code",
      "source": [],
      "metadata": {
        "id": "FJ1jVI_y-X4b"
      },
      "execution_count": null,
      "outputs": []
    }
  ]
}