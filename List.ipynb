{
  "nbformat": 4,
  "nbformat_minor": 0,
  "metadata": {
    "colab": {
      "provenance": [],
      "gpuType": "T4",
      "authorship_tag": "ABX9TyNhzLt5jZvobvGKEkYcki3r",
      "include_colab_link": true
    },
    "kernelspec": {
      "name": "python3",
      "display_name": "Python 3"
    },
    "language_info": {
      "name": "python"
    }
  },
  "cells": [
    {
      "cell_type": "markdown",
      "metadata": {
        "id": "view-in-github",
        "colab_type": "text"
      },
      "source": [
        "<a href=\"https://colab.research.google.com/github/manower35/Hussain786/blob/main/List.ipynb\" target=\"_parent\"><img src=\"https://colab.research.google.com/assets/colab-badge.svg\" alt=\"Open In Colab\"/></a>"
      ]
    },
    {
      "cell_type": "markdown",
      "source": [
        "ORGANIZING A LIST\n",
        "\n",
        "SORTING A LIST PERMANENTLY WITH THE SORT() METHOD"
      ],
      "metadata": {
        "id": "RExKEjlJ4PMw"
      }
    },
    {
      "cell_type": "code",
      "execution_count": null,
      "metadata": {
        "colab": {
          "base_uri": "https://localhost:8080/"
        },
        "id": "OA2IKIfg4Jl-",
        "outputId": "70a031cc-c797-446b-9ed9-cfa968be74fd"
      },
      "outputs": [
        {
          "output_type": "execute_result",
          "data": {
            "text/plain": [
              "['bioligy', 'chemistry', 'math', 'physics']"
            ]
          },
          "metadata": {},
          "execution_count": 1
        }
      ],
      "source": [
        "books = ['physics', 'chemistry', 'math', 'bioligy']\n",
        "books.sort()\n",
        "books"
      ]
    },
    {
      "cell_type": "code",
      "source": [
        "books.sort(reverse=True)\n",
        "books"
      ],
      "metadata": {
        "colab": {
          "base_uri": "https://localhost:8080/"
        },
        "id": "wwttZ9NB4wST",
        "outputId": "f5be5831-5daf-4286-c084-cb283165b589"
      },
      "execution_count": null,
      "outputs": [
        {
          "output_type": "execute_result",
          "data": {
            "text/plain": [
              "['physics', 'math', 'chemistry', 'bioligy']"
            ]
          },
          "metadata": {},
          "execution_count": 2
        }
      ]
    },
    {
      "cell_type": "markdown",
      "source": [
        "SORTING A LIST TEMPORARILY WITH THE SORTED() FUNCTION"
      ],
      "metadata": {
        "id": "kjo-s1lB5Aw4"
      }
    },
    {
      "cell_type": "code",
      "source": [
        "print(\"here is the original list:\")\n",
        "print(books)\n",
        "print(\"\\nhere is the sorted list:\")\n",
        "print(sorted(books))"
      ],
      "metadata": {
        "colab": {
          "base_uri": "https://localhost:8080/"
        },
        "id": "ilf_iajd4-jY",
        "outputId": "1ab632c2-7477-4512-9367-2526b0073070"
      },
      "execution_count": null,
      "outputs": [
        {
          "output_type": "stream",
          "name": "stdout",
          "text": [
            "here is the original list:\n",
            "['physics', 'math', 'chemistry', 'bioligy']\n",
            "\n",
            "here is the sorted list:\n",
            "['bioligy', 'chemistry', 'math', 'physics']\n"
          ]
        }
      ]
    },
    {
      "cell_type": "markdown",
      "source": [
        "PRINTING A LIST IN A REVERSE ORDER"
      ],
      "metadata": {
        "id": "2MLGLiEr52Cg"
      }
    },
    {
      "cell_type": "code",
      "source": [
        "print(books)\n",
        "books.reverse()\n",
        "print(books)"
      ],
      "metadata": {
        "colab": {
          "base_uri": "https://localhost:8080/"
        },
        "id": "2WdwELou5xUj",
        "outputId": "194b4f53-5300-4f52-d30f-b247fde11d3d"
      },
      "execution_count": null,
      "outputs": [
        {
          "output_type": "stream",
          "name": "stdout",
          "text": [
            "['physics', 'math', 'chemistry', 'bioligy']\n",
            "['bioligy', 'chemistry', 'math', 'physics']\n"
          ]
        }
      ]
    },
    {
      "cell_type": "markdown",
      "source": [
        "FINDING THE LENGTH OF A LIST"
      ],
      "metadata": {
        "id": "NvbQBU6s6Wln"
      }
    },
    {
      "cell_type": "code",
      "source": [
        "len(books)"
      ],
      "metadata": {
        "colab": {
          "base_uri": "https://localhost:8080/"
        },
        "id": "ImsTXBp76SVd",
        "outputId": "d0c301e6-a7bb-4ae1-ab06-7f68ebb188df"
      },
      "execution_count": null,
      "outputs": [
        {
          "output_type": "execute_result",
          "data": {
            "text/plain": [
              "4"
            ]
          },
          "metadata": {},
          "execution_count": 5
        }
      ]
    },
    {
      "cell_type": "markdown",
      "source": [
        "AVOIDING INDEX ERRORS WHEN WORKING WITH LISTS"
      ],
      "metadata": {
        "id": "F97GGLA46xa_"
      }
    },
    {
      "cell_type": "code",
      "source": [
        "city_1 = []\n",
        "city_1[-2]"
      ],
      "metadata": {
        "colab": {
          "base_uri": "https://localhost:8080/",
          "height": 158
        },
        "id": "P1hFSJMO7ADJ",
        "outputId": "fbce9477-1ad7-4622-8987-f3197aeae4c4"
      },
      "execution_count": null,
      "outputs": [
        {
          "output_type": "error",
          "ename": "IndexError",
          "evalue": "list index out of range",
          "traceback": [
            "\u001b[0;31m---------------------------------------------------------------------------\u001b[0m",
            "\u001b[0;31mIndexError\u001b[0m                                Traceback (most recent call last)",
            "\u001b[0;32m/tmp/ipython-input-6-577042450.py\u001b[0m in \u001b[0;36m<cell line: 0>\u001b[0;34m()\u001b[0m\n\u001b[1;32m      1\u001b[0m \u001b[0mcity_1\u001b[0m \u001b[0;34m=\u001b[0m \u001b[0;34m[\u001b[0m\u001b[0;34m]\u001b[0m\u001b[0;34m\u001b[0m\u001b[0;34m\u001b[0m\u001b[0m\n\u001b[0;32m----> 2\u001b[0;31m \u001b[0mcity_1\u001b[0m\u001b[0;34m[\u001b[0m\u001b[0;34m-\u001b[0m\u001b[0;36m2\u001b[0m\u001b[0;34m]\u001b[0m\u001b[0;34m\u001b[0m\u001b[0;34m\u001b[0m\u001b[0m\n\u001b[0m",
            "\u001b[0;31mIndexError\u001b[0m: list index out of range"
          ]
        }
      ]
    },
    {
      "cell_type": "code",
      "source": [
        "books[4]"
      ],
      "metadata": {
        "id": "rPfbOmx96gCW",
        "outputId": "73344ae2-e4ea-405a-db7f-775942926357",
        "colab": {
          "base_uri": "https://localhost:8080/",
          "height": 141
        }
      },
      "execution_count": null,
      "outputs": [
        {
          "output_type": "error",
          "ename": "IndexError",
          "evalue": "list index out of range",
          "traceback": [
            "\u001b[0;31m---------------------------------------------------------------------------\u001b[0m",
            "\u001b[0;31mIndexError\u001b[0m                                Traceback (most recent call last)",
            "\u001b[0;32m/tmp/ipython-input-9-1474969979.py\u001b[0m in \u001b[0;36m<cell line: 0>\u001b[0;34m()\u001b[0m\n\u001b[0;32m----> 1\u001b[0;31m \u001b[0mbooks\u001b[0m\u001b[0;34m[\u001b[0m\u001b[0;36m4\u001b[0m\u001b[0;34m]\u001b[0m\u001b[0;34m\u001b[0m\u001b[0;34m\u001b[0m\u001b[0m\n\u001b[0m",
            "\u001b[0;31mIndexError\u001b[0m: list index out of range"
          ]
        }
      ]
    },
    {
      "cell_type": "code",
      "source": [
        "books[3]"
      ],
      "metadata": {
        "id": "SKoem7U07TrO",
        "outputId": "ca815168-2a89-4258-d834-a95975dba78a",
        "colab": {
          "base_uri": "https://localhost:8080/",
          "height": 36
        }
      },
      "execution_count": null,
      "outputs": [
        {
          "output_type": "execute_result",
          "data": {
            "text/plain": [
              "'physics'"
            ],
            "application/vnd.google.colaboratory.intrinsic+json": {
              "type": "string"
            }
          },
          "metadata": {},
          "execution_count": 10
        }
      ]
    },
    {
      "cell_type": "markdown",
      "source": [
        "LOOPING THROUGH AN ENTIRE LIST"
      ],
      "metadata": {
        "id": "V-ResoIx89YN"
      }
    },
    {
      "cell_type": "code",
      "source": [
        "schools = ['teachers', 'madam', 'books', 'students']\n",
        "for school in schools:\n",
        "    print(school)"
      ],
      "metadata": {
        "colab": {
          "base_uri": "https://localhost:8080/"
        },
        "id": "BounkMUf70_o",
        "outputId": "b1df4245-29d7-4457-e605-38064f2791ab"
      },
      "execution_count": null,
      "outputs": [
        {
          "output_type": "stream",
          "name": "stdout",
          "text": [
            "teachers\n",
            "madam\n",
            "books\n",
            "students\n"
          ]
        }
      ]
    },
    {
      "cell_type": "code",
      "source": [
        "print(f\"{school.title()}, that was a great trick!\")"
      ],
      "metadata": {
        "id": "fCBiLcsm8SMp",
        "outputId": "d5d7771a-b395-43c2-9774-3db6a9674d0f",
        "colab": {
          "base_uri": "https://localhost:8080/"
        }
      },
      "execution_count": null,
      "outputs": [
        {
          "output_type": "stream",
          "name": "stdout",
          "text": [
            "Students, that was a great trick!\n"
          ]
        }
      ]
    },
    {
      "cell_type": "markdown",
      "source": [
        "Making Numerical Lists\n",
        "Range Function"
      ],
      "metadata": {
        "id": "jq-fOmucXWgY"
      }
    },
    {
      "cell_type": "code",
      "source": [
        "for value in range(1,10):\n",
        "    print(value)"
      ],
      "metadata": {
        "id": "dLa6rRJZ-R15",
        "colab": {
          "base_uri": "https://localhost:8080/"
        },
        "outputId": "92eb923a-c763-4cfc-a5c5-731b7a2fd662"
      },
      "execution_count": null,
      "outputs": [
        {
          "output_type": "stream",
          "name": "stdout",
          "text": [
            "1\n",
            "2\n",
            "3\n",
            "4\n",
            "5\n",
            "6\n",
            "7\n",
            "8\n",
            "9\n"
          ]
        }
      ]
    },
    {
      "cell_type": "markdown",
      "source": [
        "Using range() to Make a list of numbers"
      ],
      "metadata": {
        "id": "eda6QDZkYL1v"
      }
    },
    {
      "cell_type": "code",
      "source": [
        "numbers = list(range(1,5))\n",
        "print(numbers)"
      ],
      "metadata": {
        "colab": {
          "base_uri": "https://localhost:8080/"
        },
        "id": "V-NAdDS_XyQc",
        "outputId": "36fd3880-b596-4109-86c9-2337c90e9e97"
      },
      "execution_count": null,
      "outputs": [
        {
          "output_type": "stream",
          "name": "stdout",
          "text": [
            "[1, 2, 3, 4]\n"
          ]
        }
      ]
    },
    {
      "cell_type": "code",
      "source": [
        "old_numbers = list(range(2,11,2))\n",
        "old_numbers"
      ],
      "metadata": {
        "colab": {
          "base_uri": "https://localhost:8080/"
        },
        "id": "pFvexwS4YHpA",
        "outputId": "fe7773b4-3e8c-4422-f68f-ec4e6fa6ec63"
      },
      "execution_count": null,
      "outputs": [
        {
          "output_type": "execute_result",
          "data": {
            "text/plain": [
              "[2, 4, 6, 8, 10]"
            ]
          },
          "metadata": {},
          "execution_count": 4
        }
      ]
    },
    {
      "cell_type": "code",
      "source": [
        "squares = []\n",
        "for value in range(1,10):\n",
        "    square = value**2\n",
        "    squares.append(square)\n",
        "print(squares)"
      ],
      "metadata": {
        "colab": {
          "base_uri": "https://localhost:8080/"
        },
        "id": "VuT-nPgNYeZ2",
        "outputId": "ce422aa6-736f-45fb-ac5f-dca0e9580c5c"
      },
      "execution_count": null,
      "outputs": [
        {
          "output_type": "stream",
          "name": "stdout",
          "text": [
            "[1, 4, 9, 16, 25, 36, 49, 64, 81]\n"
          ]
        }
      ]
    },
    {
      "cell_type": "markdown",
      "source": [
        "Simple Statistis with a list of Numbers"
      ],
      "metadata": {
        "id": "sGQLhmP1ZR2H"
      }
    },
    {
      "cell_type": "code",
      "source": [
        "digits =[5,7,9,0,5,3]\n",
        "print(max(digits))\n",
        "print(min(digits))\n",
        "print(sum(digits))"
      ],
      "metadata": {
        "colab": {
          "base_uri": "https://localhost:8080/"
        },
        "id": "1qdp20HbZJdx",
        "outputId": "247f1a56-4c71-4671-b0da-671e3667c874"
      },
      "execution_count": null,
      "outputs": [
        {
          "output_type": "stream",
          "name": "stdout",
          "text": [
            "9\n",
            "0\n",
            "29\n"
          ]
        }
      ]
    },
    {
      "cell_type": "markdown",
      "source": [
        "List Comprehensions"
      ],
      "metadata": {
        "id": "t1zOxK2gZ-2W"
      }
    },
    {
      "cell_type": "code",
      "source": [
        "square = [value**2 for value in range(1,10)]\n",
        "print(square)"
      ],
      "metadata": {
        "colab": {
          "base_uri": "https://localhost:8080/"
        },
        "id": "6TJpTWRxZtxX",
        "outputId": "e7fadf83-086b-4caf-f470-d674ff106138"
      },
      "execution_count": null,
      "outputs": [
        {
          "output_type": "stream",
          "name": "stdout",
          "text": [
            "[1, 4, 9, 16, 25, 36, 49, 64, 81]\n"
          ]
        }
      ]
    },
    {
      "cell_type": "markdown",
      "source": [
        "Working with part of a list\n",
        "\n",
        "Slicing a List"
      ],
      "metadata": {
        "id": "buSRXc8H69PR"
      }
    },
    {
      "cell_type": "code",
      "source": [
        "country = [\"state\", \"district\", \"block\", \"village\", \"people\"]\n",
        "country[0:2]"
      ],
      "metadata": {
        "id": "8DcEP00MaOsy",
        "colab": {
          "base_uri": "https://localhost:8080/"
        },
        "outputId": "c9b4e969-9f88-4351-9a61-1654aad261f1"
      },
      "execution_count": 2,
      "outputs": [
        {
          "output_type": "execute_result",
          "data": {
            "text/plain": [
              "['state', 'district']"
            ]
          },
          "metadata": {},
          "execution_count": 2
        }
      ]
    },
    {
      "cell_type": "code",
      "source": [
        "country[:3]"
      ],
      "metadata": {
        "colab": {
          "base_uri": "https://localhost:8080/"
        },
        "id": "ytavPsDW7dtF",
        "outputId": "cc1012e8-858c-4fad-a130-5307f5394580"
      },
      "execution_count": 3,
      "outputs": [
        {
          "output_type": "execute_result",
          "data": {
            "text/plain": [
              "['state', 'district', 'block']"
            ]
          },
          "metadata": {},
          "execution_count": 3
        }
      ]
    },
    {
      "cell_type": "code",
      "source": [
        "country[2:]"
      ],
      "metadata": {
        "colab": {
          "base_uri": "https://localhost:8080/"
        },
        "id": "Q8EzcQTx7v34",
        "outputId": "89b18c10-b673-46de-a506-04b8bffaa78f"
      },
      "execution_count": 4,
      "outputs": [
        {
          "output_type": "execute_result",
          "data": {
            "text/plain": [
              "['block', 'village', 'people']"
            ]
          },
          "metadata": {},
          "execution_count": 4
        }
      ]
    },
    {
      "cell_type": "markdown",
      "source": [
        "Looping Through a Slice"
      ],
      "metadata": {
        "id": "tTEg19eC7-Gz"
      }
    },
    {
      "cell_type": "code",
      "source": [
        "print(\"here ia a full detail:\")\n",
        "for countrys in country[:2]:\n",
        "    print(countrys.title())"
      ],
      "metadata": {
        "colab": {
          "base_uri": "https://localhost:8080/"
        },
        "id": "0PFBjvxl70pd",
        "outputId": "6feb91da-9696-4102-97a9-043b903e38d3"
      },
      "execution_count": 7,
      "outputs": [
        {
          "output_type": "stream",
          "name": "stdout",
          "text": [
            "here ia a full detail:\n",
            "State\n",
            "District\n"
          ]
        }
      ]
    },
    {
      "cell_type": "markdown",
      "source": [
        "Copying a List"
      ],
      "metadata": {
        "id": "xyu7cxdp9bUz"
      }
    },
    {
      "cell_type": "code",
      "source": [
        "books = [\"math\", \"computer\", \"physics\", \"chemistry\"]\n",
        "print(books)"
      ],
      "metadata": {
        "colab": {
          "base_uri": "https://localhost:8080/"
        },
        "id": "xbYMshlo8n_T",
        "outputId": "8da59d14-2c65-4050-823b-1a51169bd3f2"
      },
      "execution_count": 8,
      "outputs": [
        {
          "output_type": "stream",
          "name": "stdout",
          "text": [
            "['math', 'computer', 'physics', 'chemistry']\n"
          ]
        }
      ]
    },
    {
      "cell_type": "markdown",
      "source": [
        "Tuples"
      ],
      "metadata": {
        "id": "DDaDNkD192i_"
      }
    },
    {
      "cell_type": "code",
      "source": [
        "measurement = (100, 250)\n",
        "print(measurement[0])\n",
        "print(measurement[1])"
      ],
      "metadata": {
        "colab": {
          "base_uri": "https://localhost:8080/"
        },
        "id": "RDZ8EmE-9wxH",
        "outputId": "73ee43d6-aa3c-4523-e54c-c31edd648035"
      },
      "execution_count": 9,
      "outputs": [
        {
          "output_type": "stream",
          "name": "stdout",
          "text": [
            "100\n",
            "250\n"
          ]
        }
      ]
    },
    {
      "cell_type": "markdown",
      "source": [
        "Looping in a Tuple"
      ],
      "metadata": {
        "id": "2Ef2j0QM-OuL"
      }
    },
    {
      "cell_type": "code",
      "source": [
        "measurement = (100, 200)\n",
        "for item in measurement:\n",
        "        print(item)"
      ],
      "metadata": {
        "colab": {
          "base_uri": "https://localhost:8080/"
        },
        "id": "ksqnu9n7-Jp2",
        "outputId": "65a4cbdf-e05a-40f6-cdbd-6764d34cf275"
      },
      "execution_count": 12,
      "outputs": [
        {
          "output_type": "stream",
          "name": "stdout",
          "text": [
            "100\n",
            "200\n"
          ]
        }
      ]
    },
    {
      "cell_type": "code",
      "source": [],
      "metadata": {
        "id": "rL-oA1xm-iK_"
      },
      "execution_count": null,
      "outputs": []
    }
  ]
}